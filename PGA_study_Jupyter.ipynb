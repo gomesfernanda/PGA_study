{
 "cells": [
  {
   "cell_type": "markdown",
   "metadata": {},
   "source": [
    "# PGA Study\n",
    "    \n",
    "This is a first study on PGA index file, a [dataset released by source{d}](https://github.com/src-d/datasets/tree/master/PublicGitArchive)."
   ]
  },
  {
   "cell_type": "code",
   "execution_count": 137,
   "metadata": {},
   "outputs": [
    {
     "data": {
      "text/plain": [
       "<matplotlib.figure.Figure at 0x13582ba58>"
      ]
     },
     "metadata": {},
     "output_type": "display_data"
    }
   ],
   "source": [
    "import csv\n",
    "import numpy as np\n",
    "import matplotlib.pyplot as plt\n",
    "from matplotlib import style\n",
    "import pandas as pd\n",
    "import seaborn as sns\n",
    "from matplotlib import rcParams\n",
    "\n",
    "style.use('seaborn')\n",
    "plt.figure(figsize=(12,6))\n",
    "\n",
    "df = pd.read_csv('pga_index.csv', low_memory=False)"
   ]
  },
  {
   "cell_type": "markdown",
   "metadata": {},
   "source": [
    "### Let's start taking a look on PGA index file\n",
    "\n",
    "We'll use Pandas framework to describe and manipulate (at least initially) PGA index, that comes on csv format"
   ]
  },
  {
   "cell_type": "code",
   "execution_count": 138,
   "metadata": {},
   "outputs": [
    {
     "data": {
      "text/html": [
       "<div>\n",
       "<style scoped>\n",
       "    .dataframe tbody tr th:only-of-type {\n",
       "        vertical-align: middle;\n",
       "    }\n",
       "\n",
       "    .dataframe tbody tr th {\n",
       "        vertical-align: top;\n",
       "    }\n",
       "\n",
       "    .dataframe thead th {\n",
       "        text-align: right;\n",
       "    }\n",
       "</style>\n",
       "<table border=\"1\" class=\"dataframe\">\n",
       "  <thead>\n",
       "    <tr style=\"text-align: right;\">\n",
       "      <th></th>\n",
       "      <th>URL</th>\n",
       "      <th>SIVA_FILENAMES</th>\n",
       "      <th>FILE_COUNT</th>\n",
       "      <th>LANGS</th>\n",
       "      <th>LANGS_BYTE_COUNT</th>\n",
       "      <th>LANGS_LINES_COUNT</th>\n",
       "      <th>LANGS_FILES_COUNT</th>\n",
       "      <th>COMMITS_COUNT</th>\n",
       "      <th>BRANCHES_COUNT</th>\n",
       "      <th>EMPTY_LINES_COUNT</th>\n",
       "      <th>CODE_LINES_COUNT</th>\n",
       "      <th>COMMENT_LINES_COUNT</th>\n",
       "      <th>LICENSE</th>\n",
       "    </tr>\n",
       "  </thead>\n",
       "  <tbody>\n",
       "    <tr>\n",
       "      <th>count</th>\n",
       "      <td>181482</td>\n",
       "      <td>181482</td>\n",
       "      <td>181482</td>\n",
       "      <td>181369</td>\n",
       "      <td>181369</td>\n",
       "      <td>181369</td>\n",
       "      <td>181369</td>\n",
       "      <td>181482</td>\n",
       "      <td>181482</td>\n",
       "      <td>181369</td>\n",
       "      <td>181369</td>\n",
       "      <td>181369</td>\n",
       "      <td>130644</td>\n",
       "    </tr>\n",
       "    <tr>\n",
       "      <th>unique</th>\n",
       "      <td>181482</td>\n",
       "      <td>170829</td>\n",
       "      <td>5658</td>\n",
       "      <td>65087</td>\n",
       "      <td>174402</td>\n",
       "      <td>171043</td>\n",
       "      <td>115701</td>\n",
       "      <td>6847</td>\n",
       "      <td>2667</td>\n",
       "      <td>158906</td>\n",
       "      <td>165933</td>\n",
       "      <td>113037</td>\n",
       "      <td>5281</td>\n",
       "    </tr>\n",
       "    <tr>\n",
       "      <th>top</th>\n",
       "      <td>https://github.com/SylvainDe/DidYouMean-Python</td>\n",
       "      <td>c24f3c3f9914ca8fc946e7129acd5fa50c16c65f.siva</td>\n",
       "      <td>9</td>\n",
       "      <td>Markdown</td>\n",
       "      <td>170</td>\n",
       "      <td>2</td>\n",
       "      <td>1</td>\n",
       "      <td>5</td>\n",
       "      <td>2</td>\n",
       "      <td>0</td>\n",
       "      <td>2</td>\n",
       "      <td>0</td>\n",
       "      <td>MIT:0.988</td>\n",
       "    </tr>\n",
       "    <tr>\n",
       "      <th>freq</th>\n",
       "      <td>1</td>\n",
       "      <td>31</td>\n",
       "      <td>3050</td>\n",
       "      <td>5168</td>\n",
       "      <td>12</td>\n",
       "      <td>196</td>\n",
       "      <td>3603</td>\n",
       "      <td>1985</td>\n",
       "      <td>19638</td>\n",
       "      <td>629</td>\n",
       "      <td>310</td>\n",
       "      <td>5460</td>\n",
       "      <td>37003</td>\n",
       "    </tr>\n",
       "  </tbody>\n",
       "</table>\n",
       "</div>"
      ],
      "text/plain": [
       "                                                   URL  \\\n",
       "count                                           181482   \n",
       "unique                                          181482   \n",
       "top     https://github.com/SylvainDe/DidYouMean-Python   \n",
       "freq                                                 1   \n",
       "\n",
       "                                       SIVA_FILENAMES FILE_COUNT     LANGS  \\\n",
       "count                                          181482     181482    181369   \n",
       "unique                                         170829       5658     65087   \n",
       "top     c24f3c3f9914ca8fc946e7129acd5fa50c16c65f.siva          9  Markdown   \n",
       "freq                                               31       3050      5168   \n",
       "\n",
       "       LANGS_BYTE_COUNT LANGS_LINES_COUNT LANGS_FILES_COUNT COMMITS_COUNT  \\\n",
       "count            181369            181369            181369        181482   \n",
       "unique           174402            171043            115701          6847   \n",
       "top                 170                 2                 1             5   \n",
       "freq                 12               196              3603          1985   \n",
       "\n",
       "       BRANCHES_COUNT EMPTY_LINES_COUNT CODE_LINES_COUNT COMMENT_LINES_COUNT  \\\n",
       "count          181482            181369           181369              181369   \n",
       "unique           2667            158906           165933              113037   \n",
       "top                 2                 0                2                   0   \n",
       "freq            19638               629              310                5460   \n",
       "\n",
       "          LICENSE  \n",
       "count      130644  \n",
       "unique       5281  \n",
       "top     MIT:0.988  \n",
       "freq        37003  "
      ]
     },
     "execution_count": 138,
     "metadata": {},
     "output_type": "execute_result"
    }
   ],
   "source": [
    "df.describe(include=['O'])"
   ]
  },
  {
   "cell_type": "markdown",
   "metadata": {},
   "source": [
    "### How does the dataset look like?\n",
    "\n",
    "Let's take a look at the first 5 rows"
   ]
  },
  {
   "cell_type": "code",
   "execution_count": 139,
   "metadata": {},
   "outputs": [
    {
     "data": {
      "text/html": [
       "<div>\n",
       "<style scoped>\n",
       "    .dataframe tbody tr th:only-of-type {\n",
       "        vertical-align: middle;\n",
       "    }\n",
       "\n",
       "    .dataframe tbody tr th {\n",
       "        vertical-align: top;\n",
       "    }\n",
       "\n",
       "    .dataframe thead th {\n",
       "        text-align: right;\n",
       "    }\n",
       "</style>\n",
       "<table border=\"1\" class=\"dataframe\">\n",
       "  <thead>\n",
       "    <tr style=\"text-align: right;\">\n",
       "      <th></th>\n",
       "      <th>URL</th>\n",
       "      <th>SIVA_FILENAMES</th>\n",
       "      <th>FILE_COUNT</th>\n",
       "      <th>LANGS</th>\n",
       "      <th>LANGS_BYTE_COUNT</th>\n",
       "      <th>LANGS_LINES_COUNT</th>\n",
       "      <th>LANGS_FILES_COUNT</th>\n",
       "      <th>COMMITS_COUNT</th>\n",
       "      <th>BRANCHES_COUNT</th>\n",
       "      <th>FORK_COUNT</th>\n",
       "      <th>EMPTY_LINES_COUNT</th>\n",
       "      <th>CODE_LINES_COUNT</th>\n",
       "      <th>COMMENT_LINES_COUNT</th>\n",
       "      <th>LICENSE</th>\n",
       "    </tr>\n",
       "  </thead>\n",
       "  <tbody>\n",
       "    <tr>\n",
       "      <th>0</th>\n",
       "      <td>https://github.com/powmedia/buildify</td>\n",
       "      <td>4a14cc02da0a9280538cd3f3242365601d72f241.siva</td>\n",
       "      <td>12</td>\n",
       "      <td>JSON,JavaScript,Markdown,Text</td>\n",
       "      <td>653,18611,4669,1094</td>\n",
       "      <td>29,849,216,22</td>\n",
       "      <td>1,5,1,4</td>\n",
       "      <td>38</td>\n",
       "      <td>25</td>\n",
       "      <td>0</td>\n",
       "      <td>0,190,67,0</td>\n",
       "      <td>28,474,148,0</td>\n",
       "      <td>0,161,0,0</td>\n",
       "      <td>MIT:0.981</td>\n",
       "    </tr>\n",
       "    <tr>\n",
       "      <th>1</th>\n",
       "      <td>https://github.com/leon/play-salat</td>\n",
       "      <td>ee02fdfc0942ff17949f456d6ee3a27b976b7141.siva</td>\n",
       "      <td>53</td>\n",
       "      <td>CSS,HTML,INI,Markdown,Scala,YAML</td>\n",
       "      <td>12981,692,38,12388,34281,132</td>\n",
       "      <td>114,30,4,343,1056,16</td>\n",
       "      <td>1,3,2,19,19,1</td>\n",
       "      <td>104</td>\n",
       "      <td>74</td>\n",
       "      <td>0</td>\n",
       "      <td>0,4,0,79,156,4</td>\n",
       "      <td>113,25,0,248,766,11</td>\n",
       "      <td>0,0,0,0,102,0</td>\n",
       "      <td>Apache-2.0:1.000</td>\n",
       "    </tr>\n",
       "    <tr>\n",
       "      <th>2</th>\n",
       "      <td>https://github.com/adammark/Markup.js</td>\n",
       "      <td>00e71912d4ec215337d5d959a34ab0ce44fdd3b4.siva</td>\n",
       "      <td>22</td>\n",
       "      <td>CSS,HTML,JSON,JavaScript,Markdown,Shell</td>\n",
       "      <td>6537,11414,678,182203,30807,91</td>\n",
       "      <td>83,492,30,5600,1204,5</td>\n",
       "      <td>1,2,1,13,1,1</td>\n",
       "      <td>295</td>\n",
       "      <td>30</td>\n",
       "      <td>0</td>\n",
       "      <td>2,91,0,857,347,0</td>\n",
       "      <td>80,395,29,3726,857,0</td>\n",
       "      <td>0,4,0,1008,0,0</td>\n",
       "      <td>MIT:0.870</td>\n",
       "    </tr>\n",
       "    <tr>\n",
       "      <th>3</th>\n",
       "      <td>https://github.com/heroku/heroku-buildpack-scala</td>\n",
       "      <td>eb7aa1e50236c65bf44529ebb9a75fae68e1d6b0.siva</td>\n",
       "      <td>33</td>\n",
       "      <td>JSON,Markdown,Ruby,Scala,Shell,Text,YAML</td>\n",
       "      <td>585,5528,6850,494,69595,1070,711</td>\n",
       "      <td>23,160,229,22,2425,10,32</td>\n",
       "      <td>1,2,5,2,18,1,2</td>\n",
       "      <td>560</td>\n",
       "      <td>206</td>\n",
       "      <td>0</td>\n",
       "      <td>0,58,19,2,0,0,1</td>\n",
       "      <td>22,100,112,18,0,0,29</td>\n",
       "      <td>0,0,8,0,0,0,0</td>\n",
       "      <td>MIT:0.994</td>\n",
       "    </tr>\n",
       "    <tr>\n",
       "      <th>4</th>\n",
       "      <td>https://github.com/brandonwamboldt/utilphp</td>\n",
       "      <td>993cc5b5ca2603f06a82555df151fbb398114543.siva,...</td>\n",
       "      <td>12</td>\n",
       "      <td>JSON,Markdown,PHP,XML,YAML</td>\n",
       "      <td>723,13409,157618,714,342</td>\n",
       "      <td>25,337,3986,26,23</td>\n",
       "      <td>1,5,3,1,1</td>\n",
       "      <td>267</td>\n",
       "      <td>112</td>\n",
       "      <td>0</td>\n",
       "      <td>0,91,548,0,4</td>\n",
       "      <td>24,242,2505,0,18</td>\n",
       "      <td>0,0,930,0,0</td>\n",
       "      <td>MIT:0.965</td>\n",
       "    </tr>\n",
       "  </tbody>\n",
       "</table>\n",
       "</div>"
      ],
      "text/plain": [
       "                                                URL  \\\n",
       "0              https://github.com/powmedia/buildify   \n",
       "1                https://github.com/leon/play-salat   \n",
       "2             https://github.com/adammark/Markup.js   \n",
       "3  https://github.com/heroku/heroku-buildpack-scala   \n",
       "4        https://github.com/brandonwamboldt/utilphp   \n",
       "\n",
       "                                      SIVA_FILENAMES FILE_COUNT  \\\n",
       "0      4a14cc02da0a9280538cd3f3242365601d72f241.siva         12   \n",
       "1      ee02fdfc0942ff17949f456d6ee3a27b976b7141.siva         53   \n",
       "2      00e71912d4ec215337d5d959a34ab0ce44fdd3b4.siva         22   \n",
       "3      eb7aa1e50236c65bf44529ebb9a75fae68e1d6b0.siva         33   \n",
       "4  993cc5b5ca2603f06a82555df151fbb398114543.siva,...         12   \n",
       "\n",
       "                                      LANGS                  LANGS_BYTE_COUNT  \\\n",
       "0             JSON,JavaScript,Markdown,Text               653,18611,4669,1094   \n",
       "1          CSS,HTML,INI,Markdown,Scala,YAML      12981,692,38,12388,34281,132   \n",
       "2   CSS,HTML,JSON,JavaScript,Markdown,Shell    6537,11414,678,182203,30807,91   \n",
       "3  JSON,Markdown,Ruby,Scala,Shell,Text,YAML  585,5528,6850,494,69595,1070,711   \n",
       "4                JSON,Markdown,PHP,XML,YAML          723,13409,157618,714,342   \n",
       "\n",
       "          LANGS_LINES_COUNT LANGS_FILES_COUNT COMMITS_COUNT BRANCHES_COUNT  \\\n",
       "0             29,849,216,22           1,5,1,4            38             25   \n",
       "1      114,30,4,343,1056,16     1,3,2,19,19,1           104             74   \n",
       "2     83,492,30,5600,1204,5      1,2,1,13,1,1           295             30   \n",
       "3  23,160,229,22,2425,10,32    1,2,5,2,18,1,2           560            206   \n",
       "4         25,337,3986,26,23         1,5,3,1,1           267            112   \n",
       "\n",
       "   FORK_COUNT EMPTY_LINES_COUNT      CODE_LINES_COUNT COMMENT_LINES_COUNT  \\\n",
       "0           0        0,190,67,0          28,474,148,0           0,161,0,0   \n",
       "1           0    0,4,0,79,156,4   113,25,0,248,766,11       0,0,0,0,102,0   \n",
       "2           0  2,91,0,857,347,0  80,395,29,3726,857,0      0,4,0,1008,0,0   \n",
       "3           0   0,58,19,2,0,0,1  22,100,112,18,0,0,29       0,0,8,0,0,0,0   \n",
       "4           0      0,91,548,0,4      24,242,2505,0,18         0,0,930,0,0   \n",
       "\n",
       "            LICENSE  \n",
       "0         MIT:0.981  \n",
       "1  Apache-2.0:1.000  \n",
       "2         MIT:0.870  \n",
       "3         MIT:0.994  \n",
       "4         MIT:0.965  "
      ]
     },
     "execution_count": 139,
     "metadata": {},
     "output_type": "execute_result"
    }
   ],
   "source": [
    "df.head()"
   ]
  },
  {
   "cell_type": "markdown",
   "metadata": {},
   "source": [
    "### We'll create a new dataframe only with repos that have a Jupyter Notebook"
   ]
  },
  {
   "cell_type": "code",
   "execution_count": 140,
   "metadata": {},
   "outputs": [],
   "source": [
    "language_name='Jupyter Notebook'\n",
    "jupyter_df = df[df['LANGS'].str.contains(language_name) == True]"
   ]
  },
  {
   "cell_type": "markdown",
   "metadata": {},
   "source": [
    "### Add a column with the repo's language count\n",
    "\n",
    "For this new dataframe, let's see how many languages these repos have, and its distribution. Is Jupyter Notebook \"diluted\" with a lot of other languages?"
   ]
  },
  {
   "cell_type": "code",
   "execution_count": 141,
   "metadata": {},
   "outputs": [],
   "source": [
    "langs_count = []\n",
    "\n",
    "for row in range(len(jupyter_df)):\n",
    "    langs_count.append(int(jupyter_df.iloc[row]['LANGS'].count(',')+1))\n",
    "\n",
    "jupyter_df = jupyter_df.assign(LANGS_COUNT = langs_count)"
   ]
  },
  {
   "cell_type": "markdown",
   "metadata": {},
   "source": [
    "### Taking a look on language distribution\n",
    "\n",
    "Using a histogram!"
   ]
  },
  {
   "cell_type": "code",
   "execution_count": 142,
   "metadata": {},
   "outputs": [
    {
     "data": {
      "text/plain": [
       "<matplotlib.axes._subplots.AxesSubplot at 0x121912e10>"
      ]
     },
     "execution_count": 142,
     "metadata": {},
     "output_type": "execute_result"
    },
    {
     "data": {
      "image/png": "[encoded data removed]",
      "text/plain": [
       "<matplotlib.figure.Figure at 0x12194d860>"
      ]
     },
     "metadata": {},
     "output_type": "display_data"
    }
   ],
   "source": [
    "sns.distplot(jupyter_df['LANGS_COUNT'], bins=200, kde=False, rug=True, hist=True, axlabel=\"languages count\", color=\"#4C6D7E\")"
   ]
  },
  {
   "cell_type": "markdown",
   "metadata": {},
   "source": [
    "It looks nice, but can be better.\n",
    "We can see that there is a great distribution for repos with < 50 languages, and outliers over 100 languages. Let's look who are these outliers."
   ]
  },
  {
   "cell_type": "code",
   "execution_count": 143,
   "metadata": {},
   "outputs": [
    {
     "data": {
      "text/html": [
       "<div>\n",
       "<style scoped>\n",
       "    .dataframe tbody tr th:only-of-type {\n",
       "        vertical-align: middle;\n",
       "    }\n",
       "\n",
       "    .dataframe tbody tr th {\n",
       "        vertical-align: top;\n",
       "    }\n",
       "\n",
       "    .dataframe thead th {\n",
       "        text-align: right;\n",
       "    }\n",
       "</style>\n",
       "<table border=\"1\" class=\"dataframe\">\n",
       "  <thead>\n",
       "    <tr style=\"text-align: right;\">\n",
       "      <th></th>\n",
       "      <th>URL</th>\n",
       "      <th>LANGS_COUNT</th>\n",
       "    </tr>\n",
       "  </thead>\n",
       "  <tbody>\n",
       "    <tr>\n",
       "      <th>4802</th>\n",
       "      <td>https://github.com/github/linguist</td>\n",
       "      <td>392</td>\n",
       "    </tr>\n",
       "    <tr>\n",
       "      <th>171604</th>\n",
       "      <td>https://github.com/cloudera/hue</td>\n",
       "      <td>120</td>\n",
       "    </tr>\n",
       "    <tr>\n",
       "      <th>173567</th>\n",
       "      <td>https://github.com/root-mirror/root</td>\n",
       "      <td>52</td>\n",
       "    </tr>\n",
       "    <tr>\n",
       "      <th>167869</th>\n",
       "      <td>https://github.com/OpenGenus/cosmos</td>\n",
       "      <td>45</td>\n",
       "    </tr>\n",
       "    <tr>\n",
       "      <th>181086</th>\n",
       "      <td>https://github.com/d-ronin/dRonin</td>\n",
       "      <td>44</td>\n",
       "    </tr>\n",
       "    <tr>\n",
       "      <th>175438</th>\n",
       "      <td>https://github.com/pyparallel/pyparallel</td>\n",
       "      <td>43</td>\n",
       "    </tr>\n",
       "    <tr>\n",
       "      <th>177763</th>\n",
       "      <td>https://github.com/jivoi/junk</td>\n",
       "      <td>41</td>\n",
       "    </tr>\n",
       "    <tr>\n",
       "      <th>178680</th>\n",
       "      <td>https://github.com/truongkma/ctf-tools</td>\n",
       "      <td>41</td>\n",
       "    </tr>\n",
       "    <tr>\n",
       "      <th>173689</th>\n",
       "      <td>https://github.com/lammps/lammps</td>\n",
       "      <td>39</td>\n",
       "    </tr>\n",
       "    <tr>\n",
       "      <th>129633</th>\n",
       "      <td>https://github.com/hola/challenge_word_classifier</td>\n",
       "      <td>38</td>\n",
       "    </tr>\n",
       "    <tr>\n",
       "      <th>163343</th>\n",
       "      <td>https://github.com/catboost/catboost</td>\n",
       "      <td>36</td>\n",
       "    </tr>\n",
       "    <tr>\n",
       "      <th>176934</th>\n",
       "      <td>https://github.com/Esri/developer-support</td>\n",
       "      <td>36</td>\n",
       "    </tr>\n",
       "    <tr>\n",
       "      <th>118084</th>\n",
       "      <td>https://github.com/yajiedesign/mxnet</td>\n",
       "      <td>35</td>\n",
       "    </tr>\n",
       "    <tr>\n",
       "      <th>104771</th>\n",
       "      <td>https://github.com/dmlc/mxnet</td>\n",
       "      <td>35</td>\n",
       "    </tr>\n",
       "    <tr>\n",
       "      <th>120118</th>\n",
       "      <td>https://github.com/tornadomeet/mxnet</td>\n",
       "      <td>35</td>\n",
       "    </tr>\n",
       "    <tr>\n",
       "      <th>180697</th>\n",
       "      <td>https://github.com/apache/incubator-mxnet</td>\n",
       "      <td>35</td>\n",
       "    </tr>\n",
       "    <tr>\n",
       "      <th>181478</th>\n",
       "      <td>https://github.com/tensorflow/tensorflow</td>\n",
       "      <td>34</td>\n",
       "    </tr>\n",
       "    <tr>\n",
       "      <th>22040</th>\n",
       "      <td>https://github.com/rdkit/rdkit</td>\n",
       "      <td>34</td>\n",
       "    </tr>\n",
       "    <tr>\n",
       "      <th>85879</th>\n",
       "      <td>https://github.com/crossbario/crossbarexamples</td>\n",
       "      <td>34</td>\n",
       "    </tr>\n",
       "    <tr>\n",
       "      <th>171601</th>\n",
       "      <td>https://github.com/JohnLangford/vowpal_wabbit</td>\n",
       "      <td>34</td>\n",
       "    </tr>\n",
       "  </tbody>\n",
       "</table>\n",
       "</div>"
      ],
      "text/plain": [
       "                                                      URL  LANGS_COUNT\n",
       "4802                   https://github.com/github/linguist          392\n",
       "171604                    https://github.com/cloudera/hue          120\n",
       "173567                https://github.com/root-mirror/root           52\n",
       "167869                https://github.com/OpenGenus/cosmos           45\n",
       "181086                  https://github.com/d-ronin/dRonin           44\n",
       "175438           https://github.com/pyparallel/pyparallel           43\n",
       "177763                      https://github.com/jivoi/junk           41\n",
       "178680             https://github.com/truongkma/ctf-tools           41\n",
       "173689                   https://github.com/lammps/lammps           39\n",
       "129633  https://github.com/hola/challenge_word_classifier           38\n",
       "163343               https://github.com/catboost/catboost           36\n",
       "176934          https://github.com/Esri/developer-support           36\n",
       "118084               https://github.com/yajiedesign/mxnet           35\n",
       "104771                      https://github.com/dmlc/mxnet           35\n",
       "120118               https://github.com/tornadomeet/mxnet           35\n",
       "180697          https://github.com/apache/incubator-mxnet           35\n",
       "181478           https://github.com/tensorflow/tensorflow           34\n",
       "22040                      https://github.com/rdkit/rdkit           34\n",
       "85879      https://github.com/crossbario/crossbarexamples           34\n",
       "171601      https://github.com/JohnLangford/vowpal_wabbit           34"
      ]
     },
     "execution_count": 143,
     "metadata": {},
     "output_type": "execute_result"
    }
   ],
   "source": [
    "jupyter_df[['URL', 'LANGS_COUNT']].sort_values(by='LANGS_COUNT', ascending=False).head(20)"
   ]
  },
  {
   "cell_type": "markdown",
   "metadata": {},
   "source": [
    "We can see that there are only two repos with over 100 languages, and the rest apparently has an interesting distribution under 50 languages.\n",
    "\n",
    "Let's take a look at language distribution without the outliers, to focus on the repos with less than 50 langs."
   ]
  },
  {
   "cell_type": "code",
   "execution_count": 144,
   "metadata": {},
   "outputs": [
    {
     "data": {
      "text/plain": [
       "<matplotlib.axes._subplots.AxesSubplot at 0x13dc2a630>"
      ]
     },
     "execution_count": 144,
     "metadata": {},
     "output_type": "execute_result"
    },
    {
     "data": {
      "image/png": "[encoded data removed]",
      "text/plain": [
       "<matplotlib.figure.Figure at 0x1468f9d30>"
      ]
     },
     "metadata": {},
     "output_type": "display_data"
    }
   ],
   "source": [
    "sns.distplot((jupyter_df[jupyter_df.LANGS_COUNT < 100]['LANGS_COUNT']), bins=50, kde=False, rug=True, hist=True,\n",
    "             axlabel=\"languages count\", color=\"#4C6D7E\")"
   ]
  },
  {
   "cell_type": "markdown",
   "metadata": {},
   "source": [
    "Interesting! This means that most of the repos that has a Jupyter Notebook have between 1-10 languages.\n",
    "\n",
    "### Let's now see the most common languages that appear on repos together with Jupyter Notebooks"
   ]
  },
  {
   "cell_type": "code",
   "execution_count": 145,
   "metadata": {},
   "outputs": [
    {
     "data": {
      "text/plain": [
       "<matplotlib.axes._subplots.AxesSubplot at 0x119b067f0>"
      ]
     },
     "execution_count": 145,
     "metadata": {},
     "output_type": "execute_result"
    },
    {
     "data": {
      "image/png": "[encoded data removed]",
      "text/plain": [
       "<matplotlib.figure.Figure at 0x1212ffdd8>"
      ]
     },
     "metadata": {},
     "output_type": "display_data"
    }
   ],
   "source": [
    "from collections import Counter\n",
    "\n",
    "list_alllangs = []\n",
    "\n",
    "for row in range(len(jupyter_df)):\n",
    "    row_str = str(jupyter_df.iloc[row].at['LANGS'])                # Turning the Langs column into a string\n",
    "    row_list = row_str.split(',')                                  # Creating a list from the Languages string\n",
    "    tw_list = [x for x in row_list if x != 'Jupyter Notebook']     # Building a new list excluding Jupyter Notebook\n",
    "    list_alllangs += tw_list                                       # Adding this list to a greater list with all languages for all repos\n",
    "\n",
    "z = Counter(list_alllangs).most_common(10)\n",
    "z_langs = [x[0] for x in z]\n",
    "z_counts = [x[1] for x in z]\n",
    "\n",
    "sns.barplot(x = z_langs, y=z_counts, palette='PuBuGn_d')\n"
   ]
  },
  {
   "cell_type": "markdown",
   "metadata": {},
   "source": [
    "### Checking position of Jupyter Notebook\n",
    "\n",
    "Now we'll check the position of Jupyter Notebooks in `LANGS` column, to study further Jupyter stats in comparison with other languages.\n",
    "\n",
    "This will be useful to study how Jupyter files relate to other language files for the fields:\n",
    "`LANGS_BYTE_COUNT`, `LANGS_LINE_COUNT`, `LANGS_FILE_COUNT`, `EMPTY_LINES_COUNT`, `CODE_LINES_COUNT`, `COMMENT_LINES_COUNT`\n",
    "\n",
    "Below we will create lists with the fractions of Jupyter Notebook data over the same number summer over all the languages"
   ]
  },
  {
   "cell_type": "code",
   "execution_count": null,
   "metadata": {},
   "outputs": [],
   "source": [
    "frac_langs_byte_count = []\n",
    "frac_langs_line_count = []\n",
    "frac_langs_file_count = []\n",
    "frac_empty_lines_count = []\n",
    "frac_code_lines_count = []\n",
    "frac_comment_lines_count = []\n",
    "\n",
    "for row in range(len(jupyter_df)):\n",
    "    \n",
    "    row_str = str(jupyter_df.iloc[row].at['LANGS'])\n",
    "    row_list = row_str.split(',')\n",
    "    position = row_list.index(language_name)\n",
    "    \n",
    "    langs_byte_count = str(jupyter_df.iloc[row].at['LANGS_BYTE_COUNT']).split(',')\n",
    "    langs_byte_count = [int(x) for x in langs_byte_count]\n",
    "    langs_byte_count_jupyter = langs_byte_count[position]\n",
    "    if sum(langs_byte_count) != 0:\n",
    "        frac_langs_byte_count.append(round(langs_byte_count_jupyter/sum(langs_byte_count), 6))\n",
    "    else:\n",
    "        frac_langs_byte_count.append(0)\n",
    "        \n",
    "    langs_line_count = str(jupyter_df.iloc[row].at['LANGS_LINES_COUNT']).split(',')\n",
    "    langs_line_count = [int(x) for x in langs_line_count]\n",
    "    langs_line_count_jupyter = langs_line_count[position]\n",
    "    if sum(langs_line_count) != 0:\n",
    "        frac_langs_line_count.append(round(langs_line_count_jupyter/sum(langs_line_count), 6))\n",
    "    else:\n",
    "        frac_langs_line_count.append(0)\n",
    "    \n",
    "    langs_file_count = str(jupyter_df.iloc[row].at['LANGS_FILES_COUNT']).split(',')\n",
    "    langs_file_count = [int(x) for x in langs_file_count]\n",
    "    langs_file_count_jupyter = langs_file_count[position]\n",
    "    if sum(langs_file_count) != 0:\n",
    "        frac_langs_file_count.append(round(langs_file_count_jupyter/sum(langs_file_count), 6))\n",
    "    else:\n",
    "        frac_langs_file_count.append(0)\n",
    "    \n",
    "    empty_lines_count = str(jupyter_df.iloc[row].at['EMPTY_LINES_COUNT']).split(',')\n",
    "    empty_lines_count = [int(x) for x in empty_lines_count]\n",
    "    empty_lines_count_jupyter = empty_lines_count[position]\n",
    "    if sum(empty_lines_count) != 0:\n",
    "        frac_empty_lines_count.append(round(empty_lines_count_jupyter/sum(empty_lines_count), 6))\n",
    "    else:\n",
    "        frac_empty_lines_count.append(0)\n",
    "    \n",
    "    code_lines_count = str(jupyter_df.iloc[row].at['CODE_LINES_COUNT']).split(',')\n",
    "    code_lines_count = [int(x) for x in code_lines_count]\n",
    "    code_lines_count_jupyter = code_lines_count[position]\n",
    "    if sum(code_lines_count) != 0:\n",
    "        frac_code_lines_count.append(round(code_lines_count_jupyter/sum(code_lines_count), 6))\n",
    "    else:\n",
    "        frac_code_lines_count.append(0)\n",
    "    \n",
    "    comment_lines_count = str(jupyter_df.iloc[row].at['COMMENT_LINES_COUNT']).split(',')\n",
    "    comment_lines_count = [int(x) for x in comment_lines_count]\n",
    "    comment_lines_count_jupyter = comment_lines_count[position]\n",
    "    if sum(comment_lines_count) != 0:\n",
    "        frac_comment_lines_count.append(round(comment_lines_count_jupyter/sum(comment_lines_count), 6))\n",
    "    else:\n",
    "        frac_comment_lines_count.append(0)"
   ]
  },
  {
   "cell_type": "code",
   "execution_count": null,
   "metadata": {},
   "outputs": [],
   "source": [
    "jupyter_df = jupyter_df.assign(FRAC_LANGS_BYTE_COUNT = frac_langs_byte_count)\n",
    "jupyter_df = jupyter_df.assign(FRAC_LANGS_LINE_COUNT = frac_langs_line_count)\n",
    "jupyter_df = jupyter_df.assign(FRAC_LANGS_FILE_COUNT = frac_langs_file_count)\n",
    "jupyter_df = jupyter_df.assign(FRAC_EMPTY_LINES_COUNT = frac_empty_lines_count)\n",
    "jupyter_df = jupyter_df.assign(FRAC_CODE_LINES_COUNT = frac_code_lines_count)\n",
    "jupyter_df = jupyter_df.assign(FRAC_COMMENT_LINES_COUNT = frac_comment_lines_count)"
   ]
  },
  {
   "cell_type": "code",
   "execution_count": null,
   "metadata": {},
   "outputs": [],
   "source": [
    "sns.distplot((jupyter_df['FRAC_LANGS_BYTE_COUNT']), kde=False, rug=False, hist=True)"
   ]
  },
  {
   "cell_type": "code",
   "execution_count": null,
   "metadata": {},
   "outputs": [],
   "source": [
    "langs_lines = jupyter_df[jupyter_df.LANGS_COUNT < 100]['FRAC_LANGS_LINE_COUNT']\n",
    "langs_files = jupyter_df[jupyter_df.LANGS_COUNT < 100]['FRAC_LANGS_FILE_COUNT']\n",
    "langs_bytes = jupyter_df[jupyter_df.LANGS_COUNT < 100]['FRAC_LANGS_BYTE_COUNT']\n",
    "empty_lines = jupyter_df[jupyter_df.LANGS_COUNT < 100]['FRAC_EMPTY_LINES_COUNT']\n",
    "code_lines = jupyter_df[jupyter_df.LANGS_COUNT < 100]['FRAC_CODE_LINES_COUNT']\n",
    "comment_lines = jupyter_df[jupyter_df.LANGS_COUNT < 100]['FRAC_COMMENT_LINES_COUNT']\n",
    "langs = jupyter_df[jupyter_df.LANGS_COUNT < 100]['LANGS_COUNT']\n",
    "\n",
    "sns.jointplot(x = langs_bytes, y = langs_lines, kind='scatter', height=8, edgecolor=\"white\", alpha=0.3)"
   ]
  }
 ],
 "metadata": {
  "kernelspec": {
   "display_name": "Python 3",
   "language": "python",
   "name": "python3"
  },
  "language_info": {
   "codemirror_mode": {
    "name": "ipython",
    "version": 3
   },
   "file_extension": ".py",
   "mimetype": "text/x-python",
   "name": "python",
   "nbconvert_exporter": "python",
   "pygments_lexer": "ipython3",
   "version": "3.6.4"
  }
 },
 "nbformat": 4,
 "nbformat_minor": 2
}
