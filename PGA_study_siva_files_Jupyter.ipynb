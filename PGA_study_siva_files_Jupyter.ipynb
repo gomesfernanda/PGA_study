{
 "cells": [
  {
   "cell_type": "markdown",
   "metadata": {},
   "source": [
    "# PGA files study\n",
    "\n",
    "On this notebook, we'll do some descriptive statistics not on PGA _index_ file, but on the siva files themselves. We want to understand avg/mean/min/max repository size, number of blobs per-repository, avg contribution per-user, etc.\n",
    "\n",
    "The steps I intend to complete to reach the results are:\n",
    "\n",
    "1. Download siva files (following [PGA documentation](https://github.com/src-d/datasets/tree/master/PublicGitArchive/pga))\n",
    "2. Extract siva files (following [siva documentation](https://github.com/src-d/go-siva))\n",
    "3. Query repos using gitbase (following [source{d} documentation](https://docs.sourced.tech/intro/#analyzing-git-repositories))\n"
   ]
  },
  {
   "cell_type": "markdown",
   "metadata": {},
   "source": [
    "## Step 1 - Download siva files\n",
    "\n",
    "We will use the terminal to download the pertinent siva files. I will follow the same criterion as the study on PGA index, so we are interested on repos that has **Jupyter Notebook** files only.\n",
    "\n",
    "```\n",
    "$ pga list --lang \"Jupyter Notebook\" -f csv > repos_jupyter.csv\n",
    "```\n",
    "\n",
    "This will give us as output a csv file with the repo's URL, siva filenames for the repo, languages, and much more information. Let's see how the csv looks like.\n",
    "\n",
    "_**NOTE**: since the export of pga doesn't come with the headers on the first row, I manually added on pandas dataframe using the ones from the index, as they are the same._"
   ]
  },
  {
   "cell_type": "code",
   "execution_count": 31,
   "metadata": {},
   "outputs": [
    {
     "data": {
      "text/html": [
       "<div>\n",
       "<style scoped>\n",
       "    .dataframe tbody tr th:only-of-type {\n",
       "        vertical-align: middle;\n",
       "    }\n",
       "\n",
       "    .dataframe tbody tr th {\n",
       "        vertical-align: top;\n",
       "    }\n",
       "\n",
       "    .dataframe thead th {\n",
       "        text-align: right;\n",
       "    }\n",
       "</style>\n",
       "<table border=\"1\" class=\"dataframe\">\n",
       "  <thead>\n",
       "    <tr style=\"text-align: right;\">\n",
       "      <th></th>\n",
       "      <th>FILE_COUNT</th>\n",
       "      <th>COMMITS_COUNT</th>\n",
       "      <th>BRANCHES_COUNT</th>\n",
       "      <th>FORK_COUNT</th>\n",
       "    </tr>\n",
       "  </thead>\n",
       "  <tbody>\n",
       "    <tr>\n",
       "      <th>count</th>\n",
       "      <td>2606.000000</td>\n",
       "      <td>2606.000000</td>\n",
       "      <td>2606.000000</td>\n",
       "      <td>2606.000000</td>\n",
       "    </tr>\n",
       "    <tr>\n",
       "      <th>mean</th>\n",
       "      <td>471.105909</td>\n",
       "      <td>851.153108</td>\n",
       "      <td>142.298542</td>\n",
       "      <td>1.209133</td>\n",
       "    </tr>\n",
       "    <tr>\n",
       "      <th>std</th>\n",
       "      <td>2274.210560</td>\n",
       "      <td>3229.955311</td>\n",
       "      <td>677.735284</td>\n",
       "      <td>7.520236</td>\n",
       "    </tr>\n",
       "    <tr>\n",
       "      <th>min</th>\n",
       "      <td>1.000000</td>\n",
       "      <td>1.000000</td>\n",
       "      <td>2.000000</td>\n",
       "      <td>0.000000</td>\n",
       "    </tr>\n",
       "    <tr>\n",
       "      <th>25%</th>\n",
       "      <td>25.000000</td>\n",
       "      <td>27.000000</td>\n",
       "      <td>3.000000</td>\n",
       "      <td>0.000000</td>\n",
       "    </tr>\n",
       "    <tr>\n",
       "      <th>50%</th>\n",
       "      <td>73.000000</td>\n",
       "      <td>95.000000</td>\n",
       "      <td>9.000000</td>\n",
       "      <td>0.000000</td>\n",
       "    </tr>\n",
       "    <tr>\n",
       "      <th>75%</th>\n",
       "      <td>257.750000</td>\n",
       "      <td>415.000000</td>\n",
       "      <td>48.000000</td>\n",
       "      <td>0.000000</td>\n",
       "    </tr>\n",
       "    <tr>\n",
       "      <th>max</th>\n",
       "      <td>70056.000000</td>\n",
       "      <td>79104.000000</td>\n",
       "      <td>14709.000000</td>\n",
       "      <td>67.000000</td>\n",
       "    </tr>\n",
       "  </tbody>\n",
       "</table>\n",
       "</div>"
      ],
      "text/plain": [
       "         FILE_COUNT  COMMITS_COUNT  BRANCHES_COUNT   FORK_COUNT\n",
       "count   2606.000000    2606.000000     2606.000000  2606.000000\n",
       "mean     471.105909     851.153108      142.298542     1.209133\n",
       "std     2274.210560    3229.955311      677.735284     7.520236\n",
       "min        1.000000       1.000000        2.000000     0.000000\n",
       "25%       25.000000      27.000000        3.000000     0.000000\n",
       "50%       73.000000      95.000000        9.000000     0.000000\n",
       "75%      257.750000     415.000000       48.000000     0.000000\n",
       "max    70056.000000   79104.000000    14709.000000    67.000000"
      ]
     },
     "execution_count": 31,
     "metadata": {},
     "output_type": "execute_result"
    }
   ],
   "source": [
    "import pandas as pd\n",
    "import matplotlib.pyplot as plt\n",
    "import seaborn as sns\n",
    "\n",
    "df = pd.read_csv(\"repos_jupyter.csv\", names=[\"URL\", \"SIVA_FILENAMES\", \"FILE_COUNT\", \"LANGS\", \"LANGS_BYTE_COUNT\",\n",
    "                                             \"LANGS_LINES_COUNT\", \"LANGS_FILES_COUNT\", \"COMMITS_COUNT\",\n",
    "                                             \"BRANCHES_COUNT\", \"FORK_COUNT\", \"EMPTY_LINES_COUNT\", \"CODE_LINES_COUNT\",\n",
    "                                             \"COMMENT_LINES_COUNT\", \"LICENSE\"])\n",
    "df.describe()"
   ]
  },
  {
   "cell_type": "code",
   "execution_count": 32,
   "metadata": {},
   "outputs": [
    {
     "data": {
      "text/html": [
       "<div>\n",
       "<style scoped>\n",
       "    .dataframe tbody tr th:only-of-type {\n",
       "        vertical-align: middle;\n",
       "    }\n",
       "\n",
       "    .dataframe tbody tr th {\n",
       "        vertical-align: top;\n",
       "    }\n",
       "\n",
       "    .dataframe thead th {\n",
       "        text-align: right;\n",
       "    }\n",
       "</style>\n",
       "<table border=\"1\" class=\"dataframe\">\n",
       "  <thead>\n",
       "    <tr style=\"text-align: right;\">\n",
       "      <th></th>\n",
       "      <th>URL</th>\n",
       "      <th>SIVA_FILENAMES</th>\n",
       "      <th>FILE_COUNT</th>\n",
       "      <th>LANGS</th>\n",
       "      <th>LANGS_BYTE_COUNT</th>\n",
       "      <th>LANGS_LINES_COUNT</th>\n",
       "      <th>LANGS_FILES_COUNT</th>\n",
       "      <th>COMMITS_COUNT</th>\n",
       "      <th>BRANCHES_COUNT</th>\n",
       "      <th>FORK_COUNT</th>\n",
       "      <th>EMPTY_LINES_COUNT</th>\n",
       "      <th>CODE_LINES_COUNT</th>\n",
       "      <th>COMMENT_LINES_COUNT</th>\n",
       "      <th>LICENSE</th>\n",
       "    </tr>\n",
       "  </thead>\n",
       "  <tbody>\n",
       "    <tr>\n",
       "      <th>0</th>\n",
       "      <td>https://github.com/statsmodels/statsmodels</td>\n",
       "      <td>0b9745d5b485ed8bd4a548543257c960da396d1a.siva</td>\n",
       "      <td>1657</td>\n",
       "      <td>AGS Script,Batchfile,C,CSS,CSV,Cython,HTML,JSO...</td>\n",
       "      <td>457842,7825,12088,30189,12522370,179965,155105...</td>\n",
       "      <td>6985,249,432,478,194340,4209,2670,242,536,1655...</td>\n",
       "      <td>1,5,3,5,164,19,13,2,3,41,1,3,2,919,29,1,4,1,17...</td>\n",
       "      <td>9727</td>\n",
       "      <td>2368</td>\n",
       "      <td>0</td>\n",
       "      <td>0,0,96,29,0,570,505,2,57,0,24,20,0,46318,367,0...</td>\n",
       "      <td>0,0,299,367,0,2898,2154,238,336,16514,138,48,0...</td>\n",
       "      <td>0,0,10,79,0,726,3,0,140,0,9,0,0,69211,319,0,0,...</td>\n",
       "      <td>BSD-3-Clause:0.971,BSD-3-Clause-No-Nuclear-Lic...</td>\n",
       "    </tr>\n",
       "    <tr>\n",
       "      <th>1</th>\n",
       "      <td>https://github.com/ptwobrussell/Mining-the-Soc...</td>\n",
       "      <td>cafea358122f631f15925e253917717f45539e18.siva</td>\n",
       "      <td>144</td>\n",
       "      <td>CSS,HTML,JavaScript,Jupyter Notebook,Markdown,...</td>\n",
       "      <td>1179,21995,1619294,85048,17008,300682,1520,623</td>\n",
       "      <td>75,690,37629,2031,162,9528,28,24</td>\n",
       "      <td>2,17,12,3,4,96,1,2</td>\n",
       "      <td>168</td>\n",
       "      <td>22</td>\n",
       "      <td>0</td>\n",
       "      <td>7,103,4055,0,56,2323,0,4</td>\n",
       "      <td>65,538,20410,2031,102,4865,0,10</td>\n",
       "      <td>1,32,13156,0,0,2108,0,8</td>\n",
       "      <td>BSD-2-Clause-FreeBSD:0.841</td>\n",
       "    </tr>\n",
       "    <tr>\n",
       "      <th>2</th>\n",
       "      <td>https://github.com/sagemath/sagecell</td>\n",
       "      <td>7ac27a0dc245243acfee08840782d56e954928a7.siva,...</td>\n",
       "      <td>237</td>\n",
       "      <td>Adobe Font Metrics,Batchfile,CSS,HTML,INI,JSON...</td>\n",
       "      <td>557,4537,63637,182720,542,228,486271,5198,6871...</td>\n",
       "      <td>21,171,2550,4610,31,15,13721,224,187,1232,151,...</td>\n",
       "      <td>1,1,22,18,2,1,32,1,2,8,5,49,13,3,3,6,1,13</td>\n",
       "      <td>2436</td>\n",
       "      <td>439</td>\n",
       "      <td>0</td>\n",
       "      <td>0,0,149,494,0,0,1857,0,33,269,25,1337,0,0,0,0,0,0</td>\n",
       "      <td>0,0,2320,4056,0,14,9595,224,147,958,83,4739,0,...</td>\n",
       "      <td>0,0,60,46,0,0,2246,0,5,0,29,2444,0,0,0,0,0,0</td>\n",
       "      <td>NaN</td>\n",
       "    </tr>\n",
       "    <tr>\n",
       "      <th>3</th>\n",
       "      <td>https://github.com/zeromq/pyzmq</td>\n",
       "      <td>08c4dbb82205f6dbb3e3e1c024a10741bdc632d3.siva,...</td>\n",
       "      <td>290</td>\n",
       "      <td>Batchfile,C,C++,CSS,Cython,Dockerfile,HTML,Jup...</td>\n",
       "      <td>3502,22766,33292,8920,112006,267,663,167790,72...</td>\n",
       "      <td>91,1066,1256,553,3560,10,24,507,229,444,21208,...</td>\n",
       "      <td>1,13,5,1,22,1,1,1,3,12,172,1,1,2,6,2,29</td>\n",
       "      <td>2361</td>\n",
       "      <td>799</td>\n",
       "      <td>0</td>\n",
       "      <td>0,15,0,98,521,0,7,0,31,100,3904,0,0,0,0,17,0</td>\n",
       "      <td>0,56,0,440,1417,0,16,506,116,333,12869,0,0,0,0...</td>\n",
       "      <td>0,9,0,15,1031,0,0,0,5,0,4268,0,0,0,0,27,0</td>\n",
       "      <td>deprecated_LGPL-3.0+:0.996,deprecated_LGPL-3.0...</td>\n",
       "    </tr>\n",
       "    <tr>\n",
       "      <th>4</th>\n",
       "      <td>https://github.com/PyTables/PyTables</td>\n",
       "      <td>fe6189a37e94ce706e79985ca5d6ff91068ba960.siva</td>\n",
       "      <td>653</td>\n",
       "      <td>Batchfile,C,C++,CMake,CSV,Cython,Diff,Gnuplot,...</td>\n",
       "      <td>13010,2860411,121115,35579,22668,285193,1999,2...</td>\n",
       "      <td>417,77456,3379,941,1603,8694,66,57,16,31,847,5...</td>\n",
       "      <td>4,148,12,9,5,12,3,2,1,2,1,7,2,1,2,173,34,12,27...</td>\n",
       "      <td>3581</td>\n",
       "      <td>321</td>\n",
       "      <td>0</td>\n",
       "      <td>0,9602,169,104,0,1588,0,0,3,0,0,114,42,0,23,17...</td>\n",
       "      <td>0,39888,912,613,0,5342,0,0,11,0,846,380,104,0,...</td>\n",
       "      <td>0,15353,428,193,0,1752,0,0,1,0,0,66,0,0,9,2071...</td>\n",
       "      <td>BSD-3-Clause:0.981</td>\n",
       "    </tr>\n",
       "  </tbody>\n",
       "</table>\n",
       "</div>"
      ],
      "text/plain": [
       "                                                 URL  \\\n",
       "0         https://github.com/statsmodels/statsmodels   \n",
       "1  https://github.com/ptwobrussell/Mining-the-Soc...   \n",
       "2               https://github.com/sagemath/sagecell   \n",
       "3                    https://github.com/zeromq/pyzmq   \n",
       "4               https://github.com/PyTables/PyTables   \n",
       "\n",
       "                                      SIVA_FILENAMES  FILE_COUNT  \\\n",
       "0      0b9745d5b485ed8bd4a548543257c960da396d1a.siva        1657   \n",
       "1      cafea358122f631f15925e253917717f45539e18.siva         144   \n",
       "2  7ac27a0dc245243acfee08840782d56e954928a7.siva,...         237   \n",
       "3  08c4dbb82205f6dbb3e3e1c024a10741bdc632d3.siva,...         290   \n",
       "4      fe6189a37e94ce706e79985ca5d6ff91068ba960.siva         653   \n",
       "\n",
       "                                               LANGS  \\\n",
       "0  AGS Script,Batchfile,C,CSS,CSV,Cython,HTML,JSO...   \n",
       "1  CSS,HTML,JavaScript,Jupyter Notebook,Markdown,...   \n",
       "2  Adobe Font Metrics,Batchfile,CSS,HTML,INI,JSON...   \n",
       "3  Batchfile,C,C++,CSS,Cython,Dockerfile,HTML,Jup...   \n",
       "4  Batchfile,C,C++,CMake,CSV,Cython,Diff,Gnuplot,...   \n",
       "\n",
       "                                    LANGS_BYTE_COUNT  \\\n",
       "0  457842,7825,12088,30189,12522370,179965,155105...   \n",
       "1     1179,21995,1619294,85048,17008,300682,1520,623   \n",
       "2  557,4537,63637,182720,542,228,486271,5198,6871...   \n",
       "3  3502,22766,33292,8920,112006,267,663,167790,72...   \n",
       "4  13010,2860411,121115,35579,22668,285193,1999,2...   \n",
       "\n",
       "                                   LANGS_LINES_COUNT  \\\n",
       "0  6985,249,432,478,194340,4209,2670,242,536,1655...   \n",
       "1                   75,690,37629,2031,162,9528,28,24   \n",
       "2  21,171,2550,4610,31,15,13721,224,187,1232,151,...   \n",
       "3  91,1066,1256,553,3560,10,24,507,229,444,21208,...   \n",
       "4  417,77456,3379,941,1603,8694,66,57,16,31,847,5...   \n",
       "\n",
       "                                   LANGS_FILES_COUNT  COMMITS_COUNT  \\\n",
       "0  1,5,3,5,164,19,13,2,3,41,1,3,2,919,29,1,4,1,17...           9727   \n",
       "1                                 2,17,12,3,4,96,1,2            168   \n",
       "2          1,1,22,18,2,1,32,1,2,8,5,49,13,3,3,6,1,13           2436   \n",
       "3            1,13,5,1,22,1,1,1,3,12,172,1,1,2,6,2,29           2361   \n",
       "4  4,148,12,9,5,12,3,2,1,2,1,7,2,1,2,173,34,12,27...           3581   \n",
       "\n",
       "   BRANCHES_COUNT  FORK_COUNT  \\\n",
       "0            2368           0   \n",
       "1              22           0   \n",
       "2             439           0   \n",
       "3             799           0   \n",
       "4             321           0   \n",
       "\n",
       "                                   EMPTY_LINES_COUNT  \\\n",
       "0  0,0,96,29,0,570,505,2,57,0,24,20,0,46318,367,0...   \n",
       "1                           7,103,4055,0,56,2323,0,4   \n",
       "2  0,0,149,494,0,0,1857,0,33,269,25,1337,0,0,0,0,0,0   \n",
       "3       0,15,0,98,521,0,7,0,31,100,3904,0,0,0,0,17,0   \n",
       "4  0,9602,169,104,0,1588,0,0,3,0,0,114,42,0,23,17...   \n",
       "\n",
       "                                    CODE_LINES_COUNT  \\\n",
       "0  0,0,299,367,0,2898,2154,238,336,16514,138,48,0...   \n",
       "1                    65,538,20410,2031,102,4865,0,10   \n",
       "2  0,0,2320,4056,0,14,9595,224,147,958,83,4739,0,...   \n",
       "3  0,56,0,440,1417,0,16,506,116,333,12869,0,0,0,0...   \n",
       "4  0,39888,912,613,0,5342,0,0,11,0,846,380,104,0,...   \n",
       "\n",
       "                                 COMMENT_LINES_COUNT  \\\n",
       "0  0,0,10,79,0,726,3,0,140,0,9,0,0,69211,319,0,0,...   \n",
       "1                            1,32,13156,0,0,2108,0,8   \n",
       "2       0,0,60,46,0,0,2246,0,5,0,29,2444,0,0,0,0,0,0   \n",
       "3          0,9,0,15,1031,0,0,0,5,0,4268,0,0,0,0,27,0   \n",
       "4  0,15353,428,193,0,1752,0,0,1,0,0,66,0,0,9,2071...   \n",
       "\n",
       "                                             LICENSE  \n",
       "0  BSD-3-Clause:0.971,BSD-3-Clause-No-Nuclear-Lic...  \n",
       "1                         BSD-2-Clause-FreeBSD:0.841  \n",
       "2                                                NaN  \n",
       "3  deprecated_LGPL-3.0+:0.996,deprecated_LGPL-3.0...  \n",
       "4                                 BSD-3-Clause:0.981  "
      ]
     },
     "execution_count": 32,
     "metadata": {},
     "output_type": "execute_result"
    }
   ],
   "source": [
    "df.head()"
   ]
  },
  {
   "cell_type": "markdown",
   "metadata": {},
   "source": [
    "As we can see above, PGA filtered 2605 repos that has Jupyter Notebook, in line with what we saw when analyzing the index file (PGA index study notebook).\n",
    "\n",
    "Now let's see how many siva files there are.\n",
    "\n",
    "In theory, one repo = one siva files, but there can be more than one siva file per repo if there are completely independent branches.\n",
    "\n",
    "To get this number, we'll examine the column B that corresponds to \"SIVA_FILENAMES\""
   ]
  },
  {
   "cell_type": "code",
   "execution_count": 33,
   "metadata": {},
   "outputs": [
    {
     "data": {
      "text/plain": [
       "6349"
      ]
     },
     "execution_count": 33,
     "metadata": {},
     "output_type": "execute_result"
    }
   ],
   "source": [
    "count_sivafiles = 0\n",
    "\n",
    "for row in df['SIVA_FILENAMES']:\n",
    "    num_sivafiles = row.split(\",\")\n",
    "    count_sivafiles += len(num_sivafiles)\n",
    "\n",
    "count_sivafiles"
   ]
  },
  {
   "cell_type": "markdown",
   "metadata": {},
   "source": [
    "Hm, this is odd. We can see that there are 2,605 repos, but 6,349 siva files. This is not normal at all.\n",
    "\n",
    "Let's understand what's going on."
   ]
  },
  {
   "cell_type": "code",
   "execution_count": 96,
   "metadata": {},
   "outputs": [
    {
     "name": "stdout",
     "output_type": "stream",
     "text": [
      "The average number of siva files is 2.44 with a standard deviation of 64.53\n"
     ]
    }
   ],
   "source": [
    "list_sivafiles = []\n",
    "\n",
    "for row in df['SIVA_FILENAMES']:\n",
    "    num_sivafiles = row.split(\",\")\n",
    "    list_sivafiles.append(len(num_sivafiles))\n",
    "\n",
    "# Checking what's the average number of siva files per repo and the standard deviation\n",
    "\n",
    "import statistics\n",
    "average = round(statistics.mean(list_sivafiles), 2)\n",
    "stdev = round(statistics.stdev(list_sivafiles), 2)\n",
    "\n",
    "print(\"The average number of siva files is\",average, \"with a standard deviation of\", stdev)\n"
   ]
  },
  {
   "cell_type": "markdown",
   "metadata": {},
   "source": [
    "We can see that the data is distorted by some anomaly, since a mean of 2.44 with such great standard deviation is not desireable. Let's keep digging, now visually, plotting a histogram of how the number of siva files are distributed."
   ]
  },
  {
   "cell_type": "code",
   "execution_count": 113,
   "metadata": {},
   "outputs": [
    {
     "name": "stdout",
     "output_type": "stream",
     "text": [
      "There are:\n",
      "- 2249 repo(s) with 1 siva files\n",
      "- 301 repo(s) with 2 siva files\n",
      "- 40 repo(s) with 3 siva files\n",
      "- 9 repo(s) with 4 siva files\n",
      "- 4 repo(s) with 5 siva files\n",
      "- 1 repo(s) with 6 siva files\n",
      "- 1 repo(s) with 21 siva files\n",
      "- 1 repo(s) with 3295 siva files\n"
     ]
    }
   ],
   "source": [
    "from collections import Counter\n",
    "\n",
    "counter_files = Counter(list_sivafiles)\n",
    "\n",
    "print(\"There are:\")\n",
    "for c in counter_files:\n",
    "    print(\"-\", counter_files[c], \"repo(s) with\", c, \"siva files\")"
   ]
  },
  {
   "cell_type": "markdown",
   "metadata": {},
   "source": [
    "WOWWWW found the anomaly! This **ONE** repo with 3,295 siva files on it.\n",
    "\n",
    "Now we need to see which repo this is."
   ]
  },
  {
   "cell_type": "code",
   "execution_count": 114,
   "metadata": {},
   "outputs": [
    {
     "name": "stdout",
     "output_type": "stream",
     "text": [
      "https://github.com/google/skia-buildbot\n"
     ]
    }
   ],
   "source": [
    "anomaly_sivafiles = max(list_sivafiles)\n",
    "\n",
    "wheres_the_anomaly = [i for i, x in enumerate(list_sivafiles) if x == anomaly_sivafiles][0]\n",
    "\n",
    "print(df.iloc[wheres_the_anomaly]['URL'])"
   ]
  },
  {
   "cell_type": "markdown",
   "metadata": {},
   "source": [
    "For the sake of our current study, we'll leave this repo aside, since it's a HUGE outlier."
   ]
  },
  {
   "cell_type": "code",
   "execution_count": null,
   "metadata": {},
   "outputs": [],
   "source": []
  }
 ],
 "metadata": {
  "kernelspec": {
   "display_name": "Python 3",
   "language": "python",
   "name": "python3"
  },
  "language_info": {
   "codemirror_mode": {
    "name": "ipython",
    "version": 3
   },
   "file_extension": ".py",
   "mimetype": "text/x-python",
   "name": "python",
   "nbconvert_exporter": "python",
   "pygments_lexer": "ipython3",
   "version": "3.6.4"
  }
 },
 "nbformat": 4,
 "nbformat_minor": 2
}
